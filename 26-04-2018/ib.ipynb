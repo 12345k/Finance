{
 "cells": [
  {
   "cell_type": "code",
   "execution_count": 1,
   "metadata": {},
   "outputs": [],
   "source": [
    "from ib.opt import Connection,message\n",
    "from ib.ext.Contract import Contract\n",
    "from ib.ext.Order import Order"
   ]
  },
  {
   "cell_type": "code",
   "execution_count": 2,
   "metadata": {},
   "outputs": [],
   "source": [
    "def make_contract(symbol, sec_type, exch, prim_exch, curr):\n",
    "    Contract.m_symbol = symbol\n",
    "    Contract.m_secType = sec_type\n",
    "    Contract.m_exchange = exch\n",
    "    Contract.m_primaryExch = prim_exch\n",
    "    Contract.m_currency = curr\n",
    "    return Contract"
   ]
  },
  {
   "cell_type": "code",
   "execution_count": 3,
   "metadata": {},
   "outputs": [],
   "source": [
    "def make_order(action,quantity, price = None):\n",
    "    if price is not None:\n",
    "        order = Order()\n",
    "        order.m_orderType = 'LMT'\n",
    "        order.m_totalQuantity = quantity\n",
    "        order.m_action = action\n",
    "        order.m_lmtPrice = price\n",
    "    else:\n",
    "        order = Order()\n",
    "        order.m_orderType = 'MKT'\n",
    "        order.m_totalQuantity = quantity\n",
    "        order.m_action = action\n",
    "\n",
    "    return order"
   ]
  },
  {
   "cell_type": "code",
   "execution_count": 12,
   "metadata": {
    "scrolled": true
   },
   "outputs": [
    {
     "name": "stdout",
     "output_type": "stream",
     "text": [
      "Server Version: 76\n",
      "TWS Time at connection:20180426 15:06:47 IST\n"
     ]
    }
   ],
   "source": [
    "cid=303\n",
    "def main():\n",
    "    conn = Connection.create(port=7497, clientId=999)\n",
    "    conn.connect()\n",
    "    oid = cid\n",
    "    cont = make_contract('TSLA', 'STK', 'SMART', 'SMART', 'USD')\n",
    "    offer = make_order('BUY', 1,2000)\n",
    "    conn.placeOrder(oid, cont, offer)\n",
    "    conn.disconnect()\n",
    "\n",
    "main()"
   ]
  },
  {
   "cell_type": "code",
   "execution_count": null,
   "metadata": {},
   "outputs": [],
   "source": []
  },
  {
   "cell_type": "code",
   "execution_count": null,
   "metadata": {},
   "outputs": [],
   "source": []
  }
 ],
 "metadata": {
  "kernelspec": {
   "display_name": "Python 2",
   "language": "python",
   "name": "python2"
  },
  "language_info": {
   "codemirror_mode": {
    "name": "ipython",
    "version": 2
   },
   "file_extension": ".py",
   "mimetype": "text/x-python",
   "name": "python",
   "nbconvert_exporter": "python",
   "pygments_lexer": "ipython2",
   "version": "2.7.14"
  }
 },
 "nbformat": 4,
 "nbformat_minor": 2
}
